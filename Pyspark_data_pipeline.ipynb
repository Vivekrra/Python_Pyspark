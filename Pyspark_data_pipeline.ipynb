{
  "nbformat": 4,
  "nbformat_minor": 0,
  "metadata": {
    "colab": {
      "provenance": [],
      "authorship_tag": "ABX9TyOR4sHZzbpygbeKnia71XUT"
    },
    "kernelspec": {
      "name": "python3",
      "display_name": "Python 3"
    },
    "language_info": {
      "name": "python"
    }
  },
  "cells": [
    {
      "cell_type": "code",
      "source": [
        "pip install ucimlrepo"
      ],
      "metadata": {
        "colab": {
          "base_uri": "https://localhost:8080/"
        },
        "collapsed": true,
        "id": "7rS83vgCHp8B",
        "outputId": "fb54fccf-7723-4b7e-bbf2-5e7bfca2c029"
      },
      "execution_count": null,
      "outputs": [
        {
          "output_type": "stream",
          "name": "stdout",
          "text": [
            "Collecting ucimlrepo\n",
            "  Downloading ucimlrepo-0.0.7-py3-none-any.whl (8.0 kB)\n",
            "Requirement already satisfied: pandas>=1.0.0 in /usr/local/lib/python3.10/dist-packages (from ucimlrepo) (2.0.3)\n",
            "Requirement already satisfied: certifi>=2020.12.5 in /usr/local/lib/python3.10/dist-packages (from ucimlrepo) (2024.6.2)\n",
            "Requirement already satisfied: python-dateutil>=2.8.2 in /usr/local/lib/python3.10/dist-packages (from pandas>=1.0.0->ucimlrepo) (2.8.2)\n",
            "Requirement already satisfied: pytz>=2020.1 in /usr/local/lib/python3.10/dist-packages (from pandas>=1.0.0->ucimlrepo) (2023.4)\n",
            "Requirement already satisfied: tzdata>=2022.1 in /usr/local/lib/python3.10/dist-packages (from pandas>=1.0.0->ucimlrepo) (2024.1)\n",
            "Requirement already satisfied: numpy>=1.21.0 in /usr/local/lib/python3.10/dist-packages (from pandas>=1.0.0->ucimlrepo) (1.25.2)\n",
            "Requirement already satisfied: six>=1.5 in /usr/local/lib/python3.10/dist-packages (from python-dateutil>=2.8.2->pandas>=1.0.0->ucimlrepo) (1.16.0)\n",
            "Installing collected packages: ucimlrepo\n",
            "Successfully installed ucimlrepo-0.0.7\n"
          ]
        }
      ]
    },
    {
      "cell_type": "code",
      "execution_count": null,
      "metadata": {
        "collapsed": true,
        "id": "DBwk-udYHb5c"
      },
      "outputs": [],
      "source": [
        "from ucimlrepo import fetch_ucirepo\n",
        "import pandas as pd\n",
        "# fetch dataset\n",
        "bank_marketing = fetch_ucirepo(id=222)\n",
        "\n",
        "# data (as pandas dataframes)\n",
        "x = bank_marketing.data.features\n",
        "y = bank_marketing.data.targets\n",
        "\n",
        "df = pd.concat([x,y],axis=1)"
      ]
    },
    {
      "cell_type": "code",
      "source": [
        "from google.colab import drive\n",
        "drive.mount('/content/drive/')"
      ],
      "metadata": {
        "colab": {
          "base_uri": "https://localhost:8080/"
        },
        "id": "W-SCoTjhIMjv",
        "outputId": "95090280-6108-4201-f63a-af116aab0495"
      },
      "execution_count": null,
      "outputs": [
        {
          "output_type": "stream",
          "name": "stdout",
          "text": [
            "Mounted at /content/drive/\n"
          ]
        }
      ]
    },
    {
      "cell_type": "code",
      "source": [
        "file_path = '/content/drive/My Drive/bank_market.csv'\n",
        "df.to_csv(file_path, index=False)"
      ],
      "metadata": {
        "id": "WuirZ-5eKlxk"
      },
      "execution_count": null,
      "outputs": []
    },
    {
      "cell_type": "code",
      "source": [
        "df1 = pd.read_csv(file_path)"
      ],
      "metadata": {
        "id": "wXeIAJgPNNba"
      },
      "execution_count": null,
      "outputs": []
    },
    {
      "cell_type": "code",
      "source": [
        "!pip install pyspark"
      ],
      "metadata": {
        "colab": {
          "base_uri": "https://localhost:8080/"
        },
        "collapsed": true,
        "id": "AkagdNLxWITL",
        "outputId": "5fb96275-0659-4e12-8b28-553087d8771a"
      },
      "execution_count": null,
      "outputs": [
        {
          "output_type": "stream",
          "name": "stdout",
          "text": [
            "Collecting pyspark\n",
            "  Downloading pyspark-3.5.1.tar.gz (317.0 MB)\n",
            "\u001b[2K     \u001b[90m━━━━━━━━━━━━━━━━━━━━━━━━━━━━━━━━━━━━━━━━\u001b[0m \u001b[32m317.0/317.0 MB\u001b[0m \u001b[31m4.1 MB/s\u001b[0m eta \u001b[36m0:00:00\u001b[0m\n",
            "\u001b[?25h  Preparing metadata (setup.py) ... \u001b[?25l\u001b[?25hdone\n",
            "Requirement already satisfied: py4j==0.10.9.7 in /usr/local/lib/python3.10/dist-packages (from pyspark) (0.10.9.7)\n",
            "Building wheels for collected packages: pyspark\n",
            "  Building wheel for pyspark (setup.py) ... \u001b[?25l\u001b[?25hdone\n",
            "  Created wheel for pyspark: filename=pyspark-3.5.1-py2.py3-none-any.whl size=317488491 sha256=e8e44d223b91b7466c095814591da9b8ae3b5d33731ae57dab00ee84a6abd82b\n",
            "  Stored in directory: /root/.cache/pip/wheels/80/1d/60/2c256ed38dddce2fdd93be545214a63e02fbd8d74fb0b7f3a6\n",
            "Successfully built pyspark\n",
            "Installing collected packages: pyspark\n",
            "Successfully installed pyspark-3.5.1\n"
          ]
        }
      ]
    },
    {
      "cell_type": "code",
      "source": [
        "from pyspark.sql import SparkSession\n",
        "spark = SparkSession.builder.appName('Data cleaning').getOrCreate()\n"
      ],
      "metadata": {
        "id": "dWLYK3VrVcQ-"
      },
      "execution_count": null,
      "outputs": []
    },
    {
      "cell_type": "code",
      "source": [
        "df=spark.read.csv(file_path,header=True,inferSchema=True)\n",
        "df.show()\n",
        "print(df.count())"
      ],
      "metadata": {
        "colab": {
          "base_uri": "https://localhost:8080/"
        },
        "id": "7m67V3PZNjB0",
        "outputId": "90e16114-7d25-4be3-c81e-6ac213d6c51c"
      },
      "execution_count": null,
      "outputs": [
        {
          "output_type": "stream",
          "name": "stdout",
          "text": [
            "+---+------------+--------+---------+-------+-------+-------+----+-------+-----------+-----+--------+--------+-----+--------+--------+---+\n",
            "|age|         job| marital|education|default|balance|housing|loan|contact|day_of_week|month|duration|campaign|pdays|previous|poutcome|  y|\n",
            "+---+------------+--------+---------+-------+-------+-------+----+-------+-----------+-----+--------+--------+-----+--------+--------+---+\n",
            "| 58|  management| married| tertiary|     no|   2143|    yes|  no|   NULL|          5|  may|     261|       1|   -1|       0|    NULL| no|\n",
            "| 44|  technician|  single|secondary|     no|     29|    yes|  no|   NULL|          5|  may|     151|       1|   -1|       0|    NULL| no|\n",
            "| 33|entrepreneur| married|secondary|     no|      2|    yes| yes|   NULL|          5|  may|      76|       1|   -1|       0|    NULL| no|\n",
            "| 47| blue-collar| married|     NULL|     no|   1506|    yes|  no|   NULL|          5|  may|      92|       1|   -1|       0|    NULL| no|\n",
            "| 33|        NULL|  single|     NULL|     no|      1|     no|  no|   NULL|          5|  may|     198|       1|   -1|       0|    NULL| no|\n",
            "| 35|  management| married| tertiary|     no|    231|    yes|  no|   NULL|          5|  may|     139|       1|   -1|       0|    NULL| no|\n",
            "| 28|  management|  single| tertiary|     no|    447|    yes| yes|   NULL|          5|  may|     217|       1|   -1|       0|    NULL| no|\n",
            "| 42|entrepreneur|divorced| tertiary|    yes|      2|    yes|  no|   NULL|          5|  may|     380|       1|   -1|       0|    NULL| no|\n",
            "| 58|     retired| married|  primary|     no|    121|    yes|  no|   NULL|          5|  may|      50|       1|   -1|       0|    NULL| no|\n",
            "| 43|  technician|  single|secondary|     no|    593|    yes|  no|   NULL|          5|  may|      55|       1|   -1|       0|    NULL| no|\n",
            "| 41|      admin.|divorced|secondary|     no|    270|    yes|  no|   NULL|          5|  may|     222|       1|   -1|       0|    NULL| no|\n",
            "| 29|      admin.|  single|secondary|     no|    390|    yes|  no|   NULL|          5|  may|     137|       1|   -1|       0|    NULL| no|\n",
            "| 53|  technician| married|secondary|     no|      6|    yes|  no|   NULL|          5|  may|     517|       1|   -1|       0|    NULL| no|\n",
            "| 58|  technician| married|     NULL|     no|     71|    yes|  no|   NULL|          5|  may|      71|       1|   -1|       0|    NULL| no|\n",
            "| 57|    services| married|secondary|     no|    162|    yes|  no|   NULL|          5|  may|     174|       1|   -1|       0|    NULL| no|\n",
            "| 51|     retired| married|  primary|     no|    229|    yes|  no|   NULL|          5|  may|     353|       1|   -1|       0|    NULL| no|\n",
            "| 45|      admin.|  single|     NULL|     no|     13|    yes|  no|   NULL|          5|  may|      98|       1|   -1|       0|    NULL| no|\n",
            "| 57| blue-collar| married|  primary|     no|     52|    yes|  no|   NULL|          5|  may|      38|       1|   -1|       0|    NULL| no|\n",
            "| 60|     retired| married|  primary|     no|     60|    yes|  no|   NULL|          5|  may|     219|       1|   -1|       0|    NULL| no|\n",
            "| 33|    services| married|secondary|     no|      0|    yes|  no|   NULL|          5|  may|      54|       1|   -1|       0|    NULL| no|\n",
            "+---+------------+--------+---------+-------+-------+-------+----+-------+-----------+-----+--------+--------+-----+--------+--------+---+\n",
            "only showing top 20 rows\n",
            "\n",
            "45211\n"
          ]
        }
      ]
    },
    {
      "cell_type": "code",
      "source": [
        "select_column = df.select(\"age\",\"job\",\"marital\",\"education\",\"default\",\"balance\",\"housing\",\"loan\",\"duration\")\n",
        "select_column.show()"
      ],
      "metadata": {
        "colab": {
          "base_uri": "https://localhost:8080/"
        },
        "id": "CxLl4po2Xg2I",
        "outputId": "3fce09e6-a3ed-4efe-afa5-66ec5dd24698",
        "collapsed": true
      },
      "execution_count": null,
      "outputs": [
        {
          "output_type": "stream",
          "name": "stdout",
          "text": [
            "+---+------------+--------+---------+-------+-------+-------+----+--------+\n",
            "|age|         job| marital|education|default|balance|housing|loan|duration|\n",
            "+---+------------+--------+---------+-------+-------+-------+----+--------+\n",
            "| 58|  management| married| tertiary|     no|   2143|    yes|  no|     261|\n",
            "| 44|  technician|  single|secondary|     no|     29|    yes|  no|     151|\n",
            "| 33|entrepreneur| married|secondary|     no|      2|    yes| yes|      76|\n",
            "| 47| blue-collar| married|     NULL|     no|   1506|    yes|  no|      92|\n",
            "| 33|        NULL|  single|     NULL|     no|      1|     no|  no|     198|\n",
            "| 35|  management| married| tertiary|     no|    231|    yes|  no|     139|\n",
            "| 28|  management|  single| tertiary|     no|    447|    yes| yes|     217|\n",
            "| 42|entrepreneur|divorced| tertiary|    yes|      2|    yes|  no|     380|\n",
            "| 58|     retired| married|  primary|     no|    121|    yes|  no|      50|\n",
            "| 43|  technician|  single|secondary|     no|    593|    yes|  no|      55|\n",
            "| 41|      admin.|divorced|secondary|     no|    270|    yes|  no|     222|\n",
            "| 29|      admin.|  single|secondary|     no|    390|    yes|  no|     137|\n",
            "| 53|  technician| married|secondary|     no|      6|    yes|  no|     517|\n",
            "| 58|  technician| married|     NULL|     no|     71|    yes|  no|      71|\n",
            "| 57|    services| married|secondary|     no|    162|    yes|  no|     174|\n",
            "| 51|     retired| married|  primary|     no|    229|    yes|  no|     353|\n",
            "| 45|      admin.|  single|     NULL|     no|     13|    yes|  no|      98|\n",
            "| 57| blue-collar| married|  primary|     no|     52|    yes|  no|      38|\n",
            "| 60|     retired| married|  primary|     no|     60|    yes|  no|     219|\n",
            "| 33|    services| married|secondary|     no|      0|    yes|  no|      54|\n",
            "+---+------------+--------+---------+-------+-------+-------+----+--------+\n",
            "only showing top 20 rows\n",
            "\n"
          ]
        }
      ]
    },
    {
      "cell_type": "code",
      "source": [
        "from pyspark.sql.functions import col,mean,when,lit\n",
        "\n",
        "df= df.fillna({'job':'unknown','marital':'unknown','education':'unknown','default':'unknown','housing':'unknown','loan':'unknown'})\n",
        "\n",
        "mean_age = df.select(mean('age')).collect()[0][0]\n",
        "mean_balance=df.select(mean('balance')).collect()[0][0]\n",
        "mean_duration=df.select(mean('duration')).collect()[0][0]\n",
        "\n",
        "df = df.withColumn('age',when(col('age').isNull(),mean_age).otherwise(col('age')))\n",
        "df=df.withColumn('balance',when(col('balance').isNull(),mean_balance).otherwise(col('balance')))\n",
        "df=df.withColumn('duration',when(col('duration').isNull(),mean_balance).otherwise(col('duration')))\n",
        "q=df.select(\"age\",\"job\",\"marital\",\"education\",\"default\",\"balance\",\"housing\",\"loan\",\"duration\")\n",
        "q.show()"
      ],
      "metadata": {
        "colab": {
          "base_uri": "https://localhost:8080/"
        },
        "id": "_pTtx3ZIXVpK",
        "outputId": "cb9fcf1c-8cd3-4dba-f2e5-0d5cb455d079"
      },
      "execution_count": null,
      "outputs": [
        {
          "output_type": "stream",
          "name": "stdout",
          "text": [
            "+----+------------+--------+---------+-------+-------+-------+----+--------+\n",
            "| age|         job| marital|education|default|balance|housing|loan|duration|\n",
            "+----+------------+--------+---------+-------+-------+-------+----+--------+\n",
            "|58.0|  management| married| tertiary|     no| 2143.0|    yes|  no|   261.0|\n",
            "|44.0|  technician|  single|secondary|     no|   29.0|    yes|  no|   151.0|\n",
            "|33.0|entrepreneur| married|secondary|     no|    2.0|    yes| yes|    76.0|\n",
            "|47.0| blue-collar| married|  unknown|     no| 1506.0|    yes|  no|    92.0|\n",
            "|33.0|     unknown|  single|  unknown|     no|    1.0|     no|  no|   198.0|\n",
            "|35.0|  management| married| tertiary|     no|  231.0|    yes|  no|   139.0|\n",
            "|28.0|  management|  single| tertiary|     no|  447.0|    yes| yes|   217.0|\n",
            "|42.0|entrepreneur|divorced| tertiary|    yes|    2.0|    yes|  no|   380.0|\n",
            "|58.0|     retired| married|  primary|     no|  121.0|    yes|  no|    50.0|\n",
            "|43.0|  technician|  single|secondary|     no|  593.0|    yes|  no|    55.0|\n",
            "|41.0|      admin.|divorced|secondary|     no|  270.0|    yes|  no|   222.0|\n",
            "|29.0|      admin.|  single|secondary|     no|  390.0|    yes|  no|   137.0|\n",
            "|53.0|  technician| married|secondary|     no|    6.0|    yes|  no|   517.0|\n",
            "|58.0|  technician| married|  unknown|     no|   71.0|    yes|  no|    71.0|\n",
            "|57.0|    services| married|secondary|     no|  162.0|    yes|  no|   174.0|\n",
            "|51.0|     retired| married|  primary|     no|  229.0|    yes|  no|   353.0|\n",
            "|45.0|      admin.|  single|  unknown|     no|   13.0|    yes|  no|    98.0|\n",
            "|57.0| blue-collar| married|  primary|     no|   52.0|    yes|  no|    38.0|\n",
            "|60.0|     retired| married|  primary|     no|   60.0|    yes|  no|   219.0|\n",
            "|33.0|    services| married|secondary|     no|    0.0|    yes|  no|    54.0|\n",
            "+----+------------+--------+---------+-------+-------+-------+----+--------+\n",
            "only showing top 20 rows\n",
            "\n"
          ]
        }
      ]
    },
    {
      "cell_type": "code",
      "source": [
        "from pyspark.sql.functions import sum,col\n",
        "\n",
        "filtered_df=df.filter((col('job') != 'unknown') & (col ('age')>40))\n",
        "q1= filtered_df.select(\"job\",\"balance\").groupby('job').agg(sum('balance'))\n",
        "q1.show()"
      ],
      "metadata": {
        "colab": {
          "base_uri": "https://localhost:8080/"
        },
        "id": "jlj_YhQ9_T2h",
        "outputId": "1d07cc5d-5c6c-4195-a594-c77af025881e"
      },
      "execution_count": null,
      "outputs": [
        {
          "output_type": "stream",
          "name": "stdout",
          "text": [
            "+-------------+------------+\n",
            "|          job|sum(balance)|\n",
            "+-------------+------------+\n",
            "|   management|   8330997.0|\n",
            "|      retired|   4472446.0|\n",
            "|self-employed|   1385538.0|\n",
            "|      student|     15723.0|\n",
            "|  blue-collar|   5350915.0|\n",
            "| entrepreneur|   1457319.0|\n",
            "|       admin.|   2959149.0|\n",
            "|   technician|   4040625.0|\n",
            "|     services|   1938982.0|\n",
            "|    housemaid|   1189372.0|\n",
            "|   unemployed|   1045435.0|\n",
            "+-------------+------------+\n",
            "\n"
          ]
        }
      ]
    },
    {
      "cell_type": "code",
      "source": [
        "#Encoding Categorical Variables:\n",
        "from pyspark.ml.feature import StringIndexer, OneHotEncoder\n",
        "from pyspark.ml import Pipeline\n",
        "\n",
        "categorical_cols = ['job', 'marital', 'education', 'default', 'housing', 'loan']\n",
        "indexers = [StringIndexer(inputCol=col, outputCol=col+\"_index\", handleInvalid='keep') for col in categorical_cols]\n",
        "encoder = OneHotEncoder(inputCols=[col+\"_index\" for col in categorical_cols], outputCols=[col+\"_encoded\" for col in categorical_cols])\n",
        "\n",
        "pipeline = Pipeline(stages=indexers + [encoder])\n",
        "df_encoded = pipeline.fit(df).transform(df)\n",
        "\n",
        "# Select and display the specified columns\n",
        "columns_to_show = categorical_cols + [col+\"_index\" for col in categorical_cols] + [col+\"_encoded\" for col in categorical_cols]\n",
        "df_encoded.select(columns_to_show).show(truncate=False)\n"
      ],
      "metadata": {
        "colab": {
          "base_uri": "https://localhost:8080/"
        },
        "collapsed": true,
        "id": "09ioXwFYXMkU",
        "outputId": "75e0b6eb-754b-4bfc-cfd6-cad25d54eaf6"
      },
      "execution_count": null,
      "outputs": [
        {
          "output_type": "stream",
          "name": "stdout",
          "text": [
            "+------------+--------+---------+-------+-------+----+---------+-------------+---------------+-------------+-------------+----------+---------------+---------------+-----------------+---------------+---------------+-------------+\n",
            "|job         |marital |education|default|housing|loan|job_index|marital_index|education_index|default_index|housing_index|loan_index|job_encoded    |marital_encoded|education_encoded|default_encoded|housing_encoded|loan_encoded |\n",
            "+------------+--------+---------+-------+-------+----+---------+-------------+---------------+-------------+-------------+----------+---------------+---------------+-----------------+---------------+---------------+-------------+\n",
            "|management  |married |tertiary |no     |yes    |no  |1.0      |0.0          |1.0            |0.0          |0.0          |0.0       |(12,[1],[1.0]) |(3,[0],[1.0])  |(4,[1],[1.0])    |(2,[0],[1.0])  |(2,[0],[1.0])  |(2,[0],[1.0])|\n",
            "|technician  |single  |secondary|no     |yes    |no  |2.0      |1.0          |0.0            |0.0          |0.0          |0.0       |(12,[2],[1.0]) |(3,[1],[1.0])  |(4,[0],[1.0])    |(2,[0],[1.0])  |(2,[0],[1.0])  |(2,[0],[1.0])|\n",
            "|entrepreneur|married |secondary|no     |yes    |yes |7.0      |0.0          |0.0            |0.0          |0.0          |1.0       |(12,[7],[1.0]) |(3,[0],[1.0])  |(4,[0],[1.0])    |(2,[0],[1.0])  |(2,[0],[1.0])  |(2,[1],[1.0])|\n",
            "|blue-collar |married |unknown  |no     |yes    |no  |0.0      |0.0          |3.0            |0.0          |0.0          |0.0       |(12,[0],[1.0]) |(3,[0],[1.0])  |(4,[3],[1.0])    |(2,[0],[1.0])  |(2,[0],[1.0])  |(2,[0],[1.0])|\n",
            "|unknown     |single  |unknown  |no     |no     |no  |11.0     |1.0          |3.0            |0.0          |1.0          |0.0       |(12,[11],[1.0])|(3,[1],[1.0])  |(4,[3],[1.0])    |(2,[0],[1.0])  |(2,[1],[1.0])  |(2,[0],[1.0])|\n",
            "|management  |married |tertiary |no     |yes    |no  |1.0      |0.0          |1.0            |0.0          |0.0          |0.0       |(12,[1],[1.0]) |(3,[0],[1.0])  |(4,[1],[1.0])    |(2,[0],[1.0])  |(2,[0],[1.0])  |(2,[0],[1.0])|\n",
            "|management  |single  |tertiary |no     |yes    |yes |1.0      |1.0          |1.0            |0.0          |0.0          |1.0       |(12,[1],[1.0]) |(3,[1],[1.0])  |(4,[1],[1.0])    |(2,[0],[1.0])  |(2,[0],[1.0])  |(2,[1],[1.0])|\n",
            "|entrepreneur|divorced|tertiary |yes    |yes    |no  |7.0      |2.0          |1.0            |1.0          |0.0          |0.0       |(12,[7],[1.0]) |(3,[2],[1.0])  |(4,[1],[1.0])    |(2,[1],[1.0])  |(2,[0],[1.0])  |(2,[0],[1.0])|\n",
            "|retired     |married |primary  |no     |yes    |no  |5.0      |0.0          |2.0            |0.0          |0.0          |0.0       |(12,[5],[1.0]) |(3,[0],[1.0])  |(4,[2],[1.0])    |(2,[0],[1.0])  |(2,[0],[1.0])  |(2,[0],[1.0])|\n",
            "|technician  |single  |secondary|no     |yes    |no  |2.0      |1.0          |0.0            |0.0          |0.0          |0.0       |(12,[2],[1.0]) |(3,[1],[1.0])  |(4,[0],[1.0])    |(2,[0],[1.0])  |(2,[0],[1.0])  |(2,[0],[1.0])|\n",
            "|admin.      |divorced|secondary|no     |yes    |no  |3.0      |2.0          |0.0            |0.0          |0.0          |0.0       |(12,[3],[1.0]) |(3,[2],[1.0])  |(4,[0],[1.0])    |(2,[0],[1.0])  |(2,[0],[1.0])  |(2,[0],[1.0])|\n",
            "|admin.      |single  |secondary|no     |yes    |no  |3.0      |1.0          |0.0            |0.0          |0.0          |0.0       |(12,[3],[1.0]) |(3,[1],[1.0])  |(4,[0],[1.0])    |(2,[0],[1.0])  |(2,[0],[1.0])  |(2,[0],[1.0])|\n",
            "|technician  |married |secondary|no     |yes    |no  |2.0      |0.0          |0.0            |0.0          |0.0          |0.0       |(12,[2],[1.0]) |(3,[0],[1.0])  |(4,[0],[1.0])    |(2,[0],[1.0])  |(2,[0],[1.0])  |(2,[0],[1.0])|\n",
            "|technician  |married |unknown  |no     |yes    |no  |2.0      |0.0          |3.0            |0.0          |0.0          |0.0       |(12,[2],[1.0]) |(3,[0],[1.0])  |(4,[3],[1.0])    |(2,[0],[1.0])  |(2,[0],[1.0])  |(2,[0],[1.0])|\n",
            "|services    |married |secondary|no     |yes    |no  |4.0      |0.0          |0.0            |0.0          |0.0          |0.0       |(12,[4],[1.0]) |(3,[0],[1.0])  |(4,[0],[1.0])    |(2,[0],[1.0])  |(2,[0],[1.0])  |(2,[0],[1.0])|\n",
            "|retired     |married |primary  |no     |yes    |no  |5.0      |0.0          |2.0            |0.0          |0.0          |0.0       |(12,[5],[1.0]) |(3,[0],[1.0])  |(4,[2],[1.0])    |(2,[0],[1.0])  |(2,[0],[1.0])  |(2,[0],[1.0])|\n",
            "|admin.      |single  |unknown  |no     |yes    |no  |3.0      |1.0          |3.0            |0.0          |0.0          |0.0       |(12,[3],[1.0]) |(3,[1],[1.0])  |(4,[3],[1.0])    |(2,[0],[1.0])  |(2,[0],[1.0])  |(2,[0],[1.0])|\n",
            "|blue-collar |married |primary  |no     |yes    |no  |0.0      |0.0          |2.0            |0.0          |0.0          |0.0       |(12,[0],[1.0]) |(3,[0],[1.0])  |(4,[2],[1.0])    |(2,[0],[1.0])  |(2,[0],[1.0])  |(2,[0],[1.0])|\n",
            "|retired     |married |primary  |no     |yes    |no  |5.0      |0.0          |2.0            |0.0          |0.0          |0.0       |(12,[5],[1.0]) |(3,[0],[1.0])  |(4,[2],[1.0])    |(2,[0],[1.0])  |(2,[0],[1.0])  |(2,[0],[1.0])|\n",
            "|services    |married |secondary|no     |yes    |no  |4.0      |0.0          |0.0            |0.0          |0.0          |0.0       |(12,[4],[1.0]) |(3,[0],[1.0])  |(4,[0],[1.0])    |(2,[0],[1.0])  |(2,[0],[1.0])  |(2,[0],[1.0])|\n",
            "+------------+--------+---------+-------+-------+----+---------+-------------+---------------+-------------+-------------+----------+---------------+---------------+-----------------+---------------+---------------+-------------+\n",
            "only showing top 20 rows\n",
            "\n"
          ]
        }
      ]
    },
    {
      "cell_type": "code",
      "source": [
        "#Scaling Numerical Variables:\n",
        "from pyspark.ml.feature import StandardScaler\n",
        "from pyspark.ml.linalg import Vectors\n",
        "from pyspark.sql.functions import udf\n",
        "\n",
        "# Assemble numerical columns into a vector for scaling\n",
        "assembler = VectorAssembler(inputCols=['age', 'balance', 'duration'], outputCol='features')\n",
        "df_vector = assembler.transform(df_encoded)\n",
        "\n",
        "# Apply StandardScaler\n",
        "scaler = StandardScaler(inputCol='features', outputCol='scaled_features')\n",
        "scaler_model = scaler.fit(df_vector)\n",
        "df_scaled = scaler_model.transform(df_vector)\n",
        "\n",
        "df_scaled.select('age', 'balance', 'duration', 'features', 'scaled_features').show(truncate=False)\n",
        "\n"
      ],
      "metadata": {
        "colab": {
          "base_uri": "https://localhost:8080/"
        },
        "collapsed": true,
        "id": "08Wqm55kZvS3",
        "outputId": "95f47654-ac90-422a-9bc8-f2abf07ef7dc"
      },
      "execution_count": null,
      "outputs": [
        {
          "output_type": "stream",
          "name": "stdout",
          "text": [
            "+----+-------+--------+-------------------+-------------------------------------------------------------+\n",
            "|age |balance|duration|features           |scaled_features                                              |\n",
            "+----+-------+--------+-------------------+-------------------------------------------------------------+\n",
            "|58.0|2143.0 |261.0   |[58.0,2143.0,261.0]|[5.4620302984652165,0.7038308100643741,1.0134827679553768]   |\n",
            "|44.0|29.0   |151.0   |[44.0,29.0,151.0]  |[4.143609191939129,0.009524541993404969,0.5863444366331874]  |\n",
            "|33.0|2.0    |76.0    |[33.0,2.0,76.0]    |[3.1077068939543473,6.568649650624117E-4,0.29511375618624003]|\n",
            "|47.0|1506.0 |92.0    |[47.0,1506.0,92.0] |[4.426128000480434,0.494619318691996,0.3572429680149221]     |\n",
            "|33.0|1.0    |198.0   |[33.0,1.0,198.0]   |[3.1077068939543473,3.2843248253120583E-4,0.7688489963799411]|\n",
            "|35.0|231.0  |139.0   |[35.0,231.0,139.0] |[3.2960527663152166,0.07586790346470855,0.5397475277616758]  |\n",
            "|28.0|447.0  |217.0   |[28.0,447.0,217.0] |[2.6368422130521734,0.146809319691449,0.8426274354265011]    |\n",
            "|42.0|2.0    |380.0   |[42.0,2.0,380.0]   |[3.9552633195782603,6.568649650624117E-4,1.4755687809312]    |\n",
            "|58.0|121.0  |50.0    |[58.0,121.0,50.0]  |[5.4620302984652165,0.039740330386275904,0.1941537869646316] |\n",
            "|43.0|593.0  |55.0    |[43.0,593.0,55.0]  |[4.049436255758695,0.19476046214100506,0.21356916566109474]  |\n",
            "|41.0|270.0  |222.0   |[41.0,270.0,222.0] |[3.8610903833978254,0.08867677028342558,0.8620428141229642]  |\n",
            "|29.0|390.0  |137.0   |[29.0,390.0,137.0] |[2.7310151492326082,0.12808866818717027,0.5319813762830905]  |\n",
            "|53.0|6.0    |517.0   |[53.0,6.0,517.0]   |[4.991165617563042,0.001970594895187235,2.0075501572142906]  |\n",
            "|58.0|71.0   |71.0    |[58.0,71.0,71.0]   |[5.4620302984652165,0.023318706259715615,0.2756983774897768] |\n",
            "|57.0|162.0  |174.0   |[57.0,162.0,174.0] |[5.367857362284782,0.05320606217005534,0.6756551786369179]   |\n",
            "|51.0|229.0  |353.0   |[51.0,229.0,353.0] |[4.802819745202173,0.07521103849964614,1.370725735970299]    |\n",
            "|45.0|13.0   |98.0    |[45.0,13.0,98.0]   |[4.237782128119564,0.004269622272905676,0.3805414224506779]  |\n",
            "|57.0|52.0   |38.0    |[57.0,52.0,38.0]   |[5.367857362284782,0.017078489091622705,0.14755687809312001] |\n",
            "|60.0|60.0   |219.0   |[60.0,60.0,219.0]  |[5.650376170826085,0.01970594895187235,0.8503935869050864]   |\n",
            "|33.0|0.0    |54.0    |[33.0,0.0,54.0]    |[3.1077068939543473,0.0,0.2096860899218021]                  |\n",
            "+----+-------+--------+-------------------+-------------------------------------------------------------+\n",
            "only showing top 20 rows\n",
            "\n"
          ]
        }
      ]
    },
    {
      "cell_type": "code",
      "source": [
        "# Creating Derived Features:\n",
        "from pyspark.sql.functions import when\n",
        "\n",
        "# Example: Binning age into age groups\n",
        "df = df.withColumn('age_group', when(col('age') <= 25, '18-25')\n",
        "                                .when((col('age') > 25) & (col('age') <= 35), '26-35')\n",
        "                                .when((col('age') > 35) & (col('age') <= 45), '36-45')\n",
        "                                .otherwise('46+'))\n",
        "\n",
        "df.select('age', 'age_group').show()"
      ],
      "metadata": {
        "colab": {
          "base_uri": "https://localhost:8080/"
        },
        "id": "7Jspk5gTZyrY",
        "outputId": "efb54f8c-b9e0-41b3-c2e5-13de4c9809da"
      },
      "execution_count": null,
      "outputs": [
        {
          "output_type": "stream",
          "name": "stdout",
          "text": [
            "+----+---------+\n",
            "| age|age_group|\n",
            "+----+---------+\n",
            "|58.0|      46+|\n",
            "|44.0|    36-45|\n",
            "|33.0|    26-35|\n",
            "|47.0|      46+|\n",
            "|33.0|    26-35|\n",
            "|35.0|    26-35|\n",
            "|28.0|    26-35|\n",
            "|42.0|    36-45|\n",
            "|58.0|      46+|\n",
            "|43.0|    36-45|\n",
            "|41.0|    36-45|\n",
            "|29.0|    26-35|\n",
            "|53.0|      46+|\n",
            "|58.0|      46+|\n",
            "|57.0|      46+|\n",
            "|51.0|      46+|\n",
            "|45.0|    36-45|\n",
            "|57.0|      46+|\n",
            "|60.0|      46+|\n",
            "|33.0|    26-35|\n",
            "+----+---------+\n",
            "only showing top 20 rows\n",
            "\n"
          ]
        }
      ]
    }
  ]
}